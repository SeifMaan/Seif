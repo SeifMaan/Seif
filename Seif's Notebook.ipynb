{
 "cells": [
  {
   "cell_type": "code",
   "execution_count": 1,
   "id": "c7bb3854",
   "metadata": {},
   "outputs": [],
   "source": [
    "import pandas as pd\n",
    "import numpy as np\n",
    "from sklearn.preprocessing import OneHotEncoder"
   ]
  },
  {
   "cell_type": "code",
   "execution_count": 6,
   "id": "fdd1af69",
   "metadata": {},
   "outputs": [
    {
     "name": "stdout",
     "output_type": "stream",
     "text": [
      "       Age          Workclass  Final Weight    Education  Education Number  \\\n",
      "0       39          State-gov         77516    Bachelors                13   \n",
      "1       50   Self-emp-not-inc         83311    Bachelors                13   \n",
      "2       38            Private        215646      HS-grad                 9   \n",
      "3       53            Private        234721         11th                 7   \n",
      "4       28            Private        338409    Bachelors                13   \n",
      "...    ...                ...           ...          ...               ...   \n",
      "32556   27            Private        257302   Assoc-acdm                12   \n",
      "32557   40            Private        154374      HS-grad                 9   \n",
      "32558   58            Private        151910      HS-grad                 9   \n",
      "32559   22            Private        201490      HS-grad                 9   \n",
      "32560   52       Self-emp-inc        287927      HS-grad                 9   \n",
      "\n",
      "            Marital Status          Occupation    Relationship    Race  \\\n",
      "0            Never-married        Adm-clerical   Not-in-family   White   \n",
      "1       Married-civ-spouse     Exec-managerial         Husband   White   \n",
      "2                 Divorced   Handlers-cleaners   Not-in-family   White   \n",
      "3       Married-civ-spouse   Handlers-cleaners         Husband   Black   \n",
      "4       Married-civ-spouse      Prof-specialty            Wife   Black   \n",
      "...                    ...                 ...             ...     ...   \n",
      "32556   Married-civ-spouse        Tech-support            Wife   White   \n",
      "32557   Married-civ-spouse   Machine-op-inspct         Husband   White   \n",
      "32558              Widowed        Adm-clerical       Unmarried   White   \n",
      "32559        Never-married        Adm-clerical       Own-child   White   \n",
      "32560   Married-civ-spouse     Exec-managerial            Wife   White   \n",
      "\n",
      "        Gender  Capital Gain  Capital Loss  Hours per Week  Native Country  \\\n",
      "0         Male          2174             0              40   United-States   \n",
      "1         Male             0             0              13   United-States   \n",
      "2         Male             0             0              40   United-States   \n",
      "3         Male             0             0              40   United-States   \n",
      "4       Female             0             0              40            Cuba   \n",
      "...        ...           ...           ...             ...             ...   \n",
      "32556   Female             0             0              38   United-States   \n",
      "32557     Male             0             0              40   United-States   \n",
      "32558   Female             0             0              40   United-States   \n",
      "32559     Male             0             0              20   United-States   \n",
      "32560   Female         15024             0              40   United-States   \n",
      "\n",
      "      Income Bracket  \n",
      "0              <=50K  \n",
      "1              <=50K  \n",
      "2              <=50K  \n",
      "3              <=50K  \n",
      "4              <=50K  \n",
      "...              ...  \n",
      "32556          <=50K  \n",
      "32557           >50K  \n",
      "32558          <=50K  \n",
      "32559          <=50K  \n",
      "32560           >50K  \n",
      "\n",
      "[32561 rows x 15 columns]\n"
     ]
    }
   ],
   "source": [
    "adult_data=pd.read_csv('adult.data',header=None)\n",
    "adult_data.columns=[\"Age\",\"Workclass\",\"Final Weight\",\"Education\",\"Education Number\",\"Marital Status\",\"Occupation\",\"Relationship\",\"Race\",\"Gender\",\"Capital Gain\",\"Capital Loss\",\"Hours per Week\",\"Native Country\",\"Income Bracket\"]\n",
    "print(adult_data)"
   ]
  },
  {
   "cell_type": "code",
   "execution_count": 7,
   "id": "d03e49fc",
   "metadata": {},
   "outputs": [
    {
     "name": "stdout",
     "output_type": "stream",
     "text": [
      "       Age      Workclass  Final Weight      Education  Education Number  \\\n",
      "0       25        Private        226802           11th                 7   \n",
      "1       38        Private         89814        HS-grad                 9   \n",
      "2       28      Local-gov        336951     Assoc-acdm                12   \n",
      "3       44        Private        160323   Some-college                10   \n",
      "4       18              ?        103497   Some-college                10   \n",
      "...    ...            ...           ...            ...               ...   \n",
      "16276   39        Private        215419      Bachelors                13   \n",
      "16277   64              ?        321403        HS-grad                 9   \n",
      "16278   38        Private        374983      Bachelors                13   \n",
      "16279   44        Private         83891      Bachelors                13   \n",
      "16280   35   Self-emp-inc        182148      Bachelors                13   \n",
      "\n",
      "            Marital Status          Occupation     Relationship  \\\n",
      "0            Never-married   Machine-op-inspct        Own-child   \n",
      "1       Married-civ-spouse     Farming-fishing          Husband   \n",
      "2       Married-civ-spouse     Protective-serv          Husband   \n",
      "3       Married-civ-spouse   Machine-op-inspct          Husband   \n",
      "4            Never-married                   ?        Own-child   \n",
      "...                    ...                 ...              ...   \n",
      "16276             Divorced      Prof-specialty    Not-in-family   \n",
      "16277              Widowed                   ?   Other-relative   \n",
      "16278   Married-civ-spouse      Prof-specialty          Husband   \n",
      "16279             Divorced        Adm-clerical        Own-child   \n",
      "16280   Married-civ-spouse     Exec-managerial          Husband   \n",
      "\n",
      "                      Race   Gender  Capital Gain  Capital Loss  \\\n",
      "0                    Black     Male             0             0   \n",
      "1                    White     Male             0             0   \n",
      "2                    White     Male             0             0   \n",
      "3                    Black     Male          7688             0   \n",
      "4                    White   Female             0             0   \n",
      "...                    ...      ...           ...           ...   \n",
      "16276                White   Female             0             0   \n",
      "16277                Black     Male             0             0   \n",
      "16278                White     Male             0             0   \n",
      "16279   Asian-Pac-Islander     Male          5455             0   \n",
      "16280                White     Male             0             0   \n",
      "\n",
      "       Hours per Week  Native Country Income Bracket  \n",
      "0                  40   United-States         <=50K.  \n",
      "1                  50   United-States         <=50K.  \n",
      "2                  40   United-States          >50K.  \n",
      "3                  40   United-States          >50K.  \n",
      "4                  30   United-States         <=50K.  \n",
      "...               ...             ...            ...  \n",
      "16276              36   United-States         <=50K.  \n",
      "16277              40   United-States         <=50K.  \n",
      "16278              50   United-States         <=50K.  \n",
      "16279              40   United-States         <=50K.  \n",
      "16280              60   United-States          >50K.  \n",
      "\n",
      "[16281 rows x 15 columns]\n"
     ]
    }
   ],
   "source": [
    "adult_test=pd.read_csv('adult.test',header=None)\n",
    "adult_test.columns=[\"Age\",\"Workclass\",\"Final Weight\",\"Education\",\"Education Number\",\"Marital Status\",\"Occupation\",\"Relationship\",\"Race\",\"Gender\",\"Capital Gain\",\"Capital Loss\",\"Hours per Week\",\"Native Country\",\"Income Bracket\"]\n",
    "print(adult_test)"
   ]
  },
  {
   "cell_type": "code",
   "execution_count": 20,
   "id": "b060d757",
   "metadata": {},
   "outputs": [
    {
     "name": "stdout",
     "output_type": "stream",
     "text": [
      "       Income Bracket\n",
      "0                   0\n",
      "1                   0\n",
      "2                   0\n",
      "3                   0\n",
      "4                   0\n",
      "...               ...\n",
      "32556               0\n",
      "32557               1\n",
      "32558               0\n",
      "32559               0\n",
      "32560               1\n",
      "\n",
      "[32561 rows x 1 columns]\n"
     ]
    }
   ],
   "source": [
    "y_train = adult_data.iloc[:, -1].str.strip().replace({'>50K': 1, '<=50K': 0}).to_frame()\n",
    "print(y_train)"
   ]
  },
  {
   "cell_type": "code",
   "execution_count": 21,
   "id": "3a186f54",
   "metadata": {},
   "outputs": [
    {
     "name": "stdout",
     "output_type": "stream",
     "text": [
      "       Income Bracket\n",
      "0                   0\n",
      "1                   0\n",
      "2                   1\n",
      "3                   1\n",
      "4                   0\n",
      "...               ...\n",
      "16276               0\n",
      "16277               0\n",
      "16278               0\n",
      "16279               0\n",
      "16280               1\n",
      "\n",
      "[16281 rows x 1 columns]\n"
     ]
    }
   ],
   "source": [
    "y_test = adult_test.iloc[:, -1].str.strip().replace({'>50K.': 1, '<=50K.': 0}).to_frame()\n",
    "print(y_test)"
   ]
  },
  {
   "cell_type": "code",
   "execution_count": 23,
   "id": "37527955",
   "metadata": {},
   "outputs": [
    {
     "name": "stdout",
     "output_type": "stream",
     "text": [
      "       Age          Workclass  Final Weight    Education  Education Number  \\\n",
      "0       39          State-gov         77516    Bachelors                13   \n",
      "1       50   Self-emp-not-inc         83311    Bachelors                13   \n",
      "2       38            Private        215646      HS-grad                 9   \n",
      "3       53            Private        234721         11th                 7   \n",
      "4       28            Private        338409    Bachelors                13   \n",
      "...    ...                ...           ...          ...               ...   \n",
      "32556   27            Private        257302   Assoc-acdm                12   \n",
      "32557   40            Private        154374      HS-grad                 9   \n",
      "32558   58            Private        151910      HS-grad                 9   \n",
      "32559   22            Private        201490      HS-grad                 9   \n",
      "32560   52       Self-emp-inc        287927      HS-grad                 9   \n",
      "\n",
      "            Marital Status          Occupation    Relationship    Race  \\\n",
      "0            Never-married        Adm-clerical   Not-in-family   White   \n",
      "1       Married-civ-spouse     Exec-managerial         Husband   White   \n",
      "2                 Divorced   Handlers-cleaners   Not-in-family   White   \n",
      "3       Married-civ-spouse   Handlers-cleaners         Husband   Black   \n",
      "4       Married-civ-spouse      Prof-specialty            Wife   Black   \n",
      "...                    ...                 ...             ...     ...   \n",
      "32556   Married-civ-spouse        Tech-support            Wife   White   \n",
      "32557   Married-civ-spouse   Machine-op-inspct         Husband   White   \n",
      "32558              Widowed        Adm-clerical       Unmarried   White   \n",
      "32559        Never-married        Adm-clerical       Own-child   White   \n",
      "32560   Married-civ-spouse     Exec-managerial            Wife   White   \n",
      "\n",
      "        Gender  Capital Gain  Capital Loss  Hours per Week  Native Country  \n",
      "0         Male          2174             0              40   United-States  \n",
      "1         Male             0             0              13   United-States  \n",
      "2         Male             0             0              40   United-States  \n",
      "3         Male             0             0              40   United-States  \n",
      "4       Female             0             0              40            Cuba  \n",
      "...        ...           ...           ...             ...             ...  \n",
      "32556   Female             0             0              38   United-States  \n",
      "32557     Male             0             0              40   United-States  \n",
      "32558   Female             0             0              40   United-States  \n",
      "32559     Male             0             0              20   United-States  \n",
      "32560   Female         15024             0              40   United-States  \n",
      "\n",
      "[32561 rows x 14 columns]\n"
     ]
    }
   ],
   "source": [
    "x_train=adult_data.iloc[:, :-1] \n",
    "print(x_train)"
   ]
  },
  {
   "cell_type": "code",
   "execution_count": 24,
   "id": "4f307a42",
   "metadata": {},
   "outputs": [
    {
     "name": "stdout",
     "output_type": "stream",
     "text": [
      "       Age      Workclass  Final Weight      Education  Education Number  \\\n",
      "0       25        Private        226802           11th                 7   \n",
      "1       38        Private         89814        HS-grad                 9   \n",
      "2       28      Local-gov        336951     Assoc-acdm                12   \n",
      "3       44        Private        160323   Some-college                10   \n",
      "4       18              ?        103497   Some-college                10   \n",
      "...    ...            ...           ...            ...               ...   \n",
      "16276   39        Private        215419      Bachelors                13   \n",
      "16277   64              ?        321403        HS-grad                 9   \n",
      "16278   38        Private        374983      Bachelors                13   \n",
      "16279   44        Private         83891      Bachelors                13   \n",
      "16280   35   Self-emp-inc        182148      Bachelors                13   \n",
      "\n",
      "            Marital Status          Occupation     Relationship  \\\n",
      "0            Never-married   Machine-op-inspct        Own-child   \n",
      "1       Married-civ-spouse     Farming-fishing          Husband   \n",
      "2       Married-civ-spouse     Protective-serv          Husband   \n",
      "3       Married-civ-spouse   Machine-op-inspct          Husband   \n",
      "4            Never-married                   ?        Own-child   \n",
      "...                    ...                 ...              ...   \n",
      "16276             Divorced      Prof-specialty    Not-in-family   \n",
      "16277              Widowed                   ?   Other-relative   \n",
      "16278   Married-civ-spouse      Prof-specialty          Husband   \n",
      "16279             Divorced        Adm-clerical        Own-child   \n",
      "16280   Married-civ-spouse     Exec-managerial          Husband   \n",
      "\n",
      "                      Race   Gender  Capital Gain  Capital Loss  \\\n",
      "0                    Black     Male             0             0   \n",
      "1                    White     Male             0             0   \n",
      "2                    White     Male             0             0   \n",
      "3                    Black     Male          7688             0   \n",
      "4                    White   Female             0             0   \n",
      "...                    ...      ...           ...           ...   \n",
      "16276                White   Female             0             0   \n",
      "16277                Black     Male             0             0   \n",
      "16278                White     Male             0             0   \n",
      "16279   Asian-Pac-Islander     Male          5455             0   \n",
      "16280                White     Male             0             0   \n",
      "\n",
      "       Hours per Week  Native Country  \n",
      "0                  40   United-States  \n",
      "1                  50   United-States  \n",
      "2                  40   United-States  \n",
      "3                  40   United-States  \n",
      "4                  30   United-States  \n",
      "...               ...             ...  \n",
      "16276              36   United-States  \n",
      "16277              40   United-States  \n",
      "16278              50   United-States  \n",
      "16279              40   United-States  \n",
      "16280              60   United-States  \n",
      "\n",
      "[16281 rows x 14 columns]\n"
     ]
    }
   ],
   "source": [
    "x_test=adult_test.iloc[:, :-1] \n",
    "print(x_test)"
   ]
  },
  {
   "cell_type": "code",
   "execution_count": 30,
   "id": "19d238ca",
   "metadata": {},
   "outputs": [
    {
     "name": "stdout",
     "output_type": "stream",
     "text": [
      "       Age          Workclass  Final Weight   Education  Education Number  \\\n",
      "0       39          State-gov         77516   Bachelors                13   \n",
      "1       50   Self-emp-not-inc         83311   Bachelors                13   \n",
      "2       38            Private        215646     HS-grad                 9   \n",
      "3       53            Private        234721        11th                 7   \n",
      "4       28            Private        338409   Bachelors                13   \n",
      "...    ...                ...           ...         ...               ...   \n",
      "48837   39            Private        215419   Bachelors                13   \n",
      "48838   64                  ?        321403     HS-grad                 9   \n",
      "48839   38            Private        374983   Bachelors                13   \n",
      "48840   44            Private         83891   Bachelors                13   \n",
      "48841   35       Self-emp-inc        182148   Bachelors                13   \n",
      "\n",
      "            Marital Status          Occupation     Relationship  \\\n",
      "0            Never-married        Adm-clerical    Not-in-family   \n",
      "1       Married-civ-spouse     Exec-managerial          Husband   \n",
      "2                 Divorced   Handlers-cleaners    Not-in-family   \n",
      "3       Married-civ-spouse   Handlers-cleaners          Husband   \n",
      "4       Married-civ-spouse      Prof-specialty             Wife   \n",
      "...                    ...                 ...              ...   \n",
      "48837             Divorced      Prof-specialty    Not-in-family   \n",
      "48838              Widowed                   ?   Other-relative   \n",
      "48839   Married-civ-spouse      Prof-specialty          Husband   \n",
      "48840             Divorced        Adm-clerical        Own-child   \n",
      "48841   Married-civ-spouse     Exec-managerial          Husband   \n",
      "\n",
      "                      Race   Gender  Capital Gain  Capital Loss  \\\n",
      "0                    White     Male          2174             0   \n",
      "1                    White     Male             0             0   \n",
      "2                    White     Male             0             0   \n",
      "3                    Black     Male             0             0   \n",
      "4                    Black   Female             0             0   \n",
      "...                    ...      ...           ...           ...   \n",
      "48837                White   Female             0             0   \n",
      "48838                Black     Male             0             0   \n",
      "48839                White     Male             0             0   \n",
      "48840   Asian-Pac-Islander     Male          5455             0   \n",
      "48841                White     Male             0             0   \n",
      "\n",
      "       Hours per Week  Native Country  \n",
      "0                  40   United-States  \n",
      "1                  13   United-States  \n",
      "2                  40   United-States  \n",
      "3                  40   United-States  \n",
      "4                  40            Cuba  \n",
      "...               ...             ...  \n",
      "48837              36   United-States  \n",
      "48838              40   United-States  \n",
      "48839              50   United-States  \n",
      "48840              40   United-States  \n",
      "48841              60   United-States  \n",
      "\n",
      "[48842 rows x 14 columns]\n"
     ]
    }
   ],
   "source": [
    "concat_df = pd.concat([x_train, x_test],axis=0,ignore_index=True)\n",
    "print(concat_df) "
   ]
  },
  {
   "cell_type": "code",
   "execution_count": 31,
   "id": "e482c500",
   "metadata": {},
   "outputs": [
    {
     "name": "stderr",
     "output_type": "stream",
     "text": [
      "C:\\Users\\youssef\\anaconda3\\Lib\\site-packages\\sklearn\\preprocessing\\_encoders.py:972: FutureWarning: `sparse` was renamed to `sparse_output` in version 1.2 and will be removed in 1.4. `sparse_output` is ignored unless you leave `sparse` to its default value.\n",
      "  warnings.warn(\n"
     ]
    },
    {
     "name": "stdout",
     "output_type": "stream",
     "text": [
      "       Age  Final Weight  Education Number  Capital Gain  Capital Loss  \\\n",
      "0       39         77516                13          2174             0   \n",
      "1       50         83311                13             0             0   \n",
      "2       38        215646                 9             0             0   \n",
      "3       53        234721                 7             0             0   \n",
      "4       28        338409                13             0             0   \n",
      "...    ...           ...               ...           ...           ...   \n",
      "48837   39        215419                13             0             0   \n",
      "48838   64        321403                 9             0             0   \n",
      "48839   38        374983                13             0             0   \n",
      "48840   44         83891                13          5455             0   \n",
      "48841   35        182148                13             0             0   \n",
      "\n",
      "       Hours per Week    0    1    2    3  ...   84   85   86   87   88   89  \\\n",
      "0                  40  0.0  0.0  0.0  0.0  ...  0.0  0.0  0.0  0.0  0.0  0.0   \n",
      "1                  13  0.0  0.0  0.0  0.0  ...  0.0  0.0  0.0  0.0  0.0  0.0   \n",
      "2                  40  0.0  0.0  0.0  1.0  ...  0.0  0.0  0.0  0.0  0.0  0.0   \n",
      "3                  40  0.0  0.0  0.0  1.0  ...  0.0  0.0  0.0  0.0  0.0  0.0   \n",
      "4                  40  0.0  0.0  0.0  1.0  ...  0.0  0.0  0.0  0.0  0.0  0.0   \n",
      "...               ...  ...  ...  ...  ...  ...  ...  ...  ...  ...  ...  ...   \n",
      "48837              36  0.0  0.0  0.0  1.0  ...  0.0  0.0  0.0  0.0  0.0  0.0   \n",
      "48838              40  0.0  0.0  0.0  0.0  ...  0.0  0.0  0.0  0.0  0.0  0.0   \n",
      "48839              50  0.0  0.0  0.0  1.0  ...  0.0  0.0  0.0  0.0  0.0  0.0   \n",
      "48840              40  0.0  0.0  0.0  1.0  ...  0.0  0.0  0.0  0.0  0.0  0.0   \n",
      "48841              60  0.0  0.0  0.0  0.0  ...  0.0  0.0  0.0  0.0  0.0  0.0   \n",
      "\n",
      "        90   91   92   93  \n",
      "0      0.0  1.0  0.0  0.0  \n",
      "1      0.0  1.0  0.0  0.0  \n",
      "2      0.0  1.0  0.0  0.0  \n",
      "3      0.0  1.0  0.0  0.0  \n",
      "4      0.0  0.0  0.0  0.0  \n",
      "...    ...  ...  ...  ...  \n",
      "48837  0.0  1.0  0.0  0.0  \n",
      "48838  0.0  1.0  0.0  0.0  \n",
      "48839  0.0  1.0  0.0  0.0  \n",
      "48840  0.0  1.0  0.0  0.0  \n",
      "48841  0.0  1.0  0.0  0.0  \n",
      "\n",
      "[48842 rows x 100 columns]\n"
     ]
    }
   ],
   "source": [
    "categorical_columns=concat_df.select_dtypes(exclude=[np.number]).columns\n",
    "numerical_columns=concat_df.select_dtypes(include=[np.number]).columns\n",
    "encoder = OneHotEncoder(drop='first', sparse=False)\n",
    "encoded_data = encoder.fit_transform(concat_df[categorical_columns])\n",
    "encoded_df = pd.DataFrame(encoded_data)\n",
    "data_encoded = pd.concat([concat_df[numerical_columns], encoded_df],axis=1)\n",
    "print(data_encoded)"
   ]
  },
  {
   "cell_type": "code",
   "execution_count": 33,
   "id": "27957bbb",
   "metadata": {},
   "outputs": [
    {
     "name": "stdout",
     "output_type": "stream",
     "text": [
      "       Age  Final Weight  Education Number  Capital Gain  Capital Loss  \\\n",
      "0       39         77516                13          2174             0   \n",
      "1       50         83311                13             0             0   \n",
      "2       38        215646                 9             0             0   \n",
      "3       53        234721                 7             0             0   \n",
      "4       28        338409                13             0             0   \n",
      "...    ...           ...               ...           ...           ...   \n",
      "32556   27        257302                12             0             0   \n",
      "32557   40        154374                 9             0             0   \n",
      "32558   58        151910                 9             0             0   \n",
      "32559   22        201490                 9             0             0   \n",
      "32560   52        287927                 9         15024             0   \n",
      "\n",
      "       Hours per Week    0    1    2    3  ...   84   85   86   87   88   89  \\\n",
      "0                  40  0.0  0.0  0.0  0.0  ...  0.0  0.0  0.0  0.0  0.0  0.0   \n",
      "1                  13  0.0  0.0  0.0  0.0  ...  0.0  0.0  0.0  0.0  0.0  0.0   \n",
      "2                  40  0.0  0.0  0.0  1.0  ...  0.0  0.0  0.0  0.0  0.0  0.0   \n",
      "3                  40  0.0  0.0  0.0  1.0  ...  0.0  0.0  0.0  0.0  0.0  0.0   \n",
      "4                  40  0.0  0.0  0.0  1.0  ...  0.0  0.0  0.0  0.0  0.0  0.0   \n",
      "...               ...  ...  ...  ...  ...  ...  ...  ...  ...  ...  ...  ...   \n",
      "32556              38  0.0  0.0  0.0  1.0  ...  0.0  0.0  0.0  0.0  0.0  0.0   \n",
      "32557              40  0.0  0.0  0.0  1.0  ...  0.0  0.0  0.0  0.0  0.0  0.0   \n",
      "32558              40  0.0  0.0  0.0  1.0  ...  0.0  0.0  0.0  0.0  0.0  0.0   \n",
      "32559              20  0.0  0.0  0.0  1.0  ...  0.0  0.0  0.0  0.0  0.0  0.0   \n",
      "32560              40  0.0  0.0  0.0  0.0  ...  0.0  0.0  0.0  0.0  0.0  0.0   \n",
      "\n",
      "        90   91   92   93  \n",
      "0      0.0  1.0  0.0  0.0  \n",
      "1      0.0  1.0  0.0  0.0  \n",
      "2      0.0  1.0  0.0  0.0  \n",
      "3      0.0  1.0  0.0  0.0  \n",
      "4      0.0  0.0  0.0  0.0  \n",
      "...    ...  ...  ...  ...  \n",
      "32556  0.0  1.0  0.0  0.0  \n",
      "32557  0.0  1.0  0.0  0.0  \n",
      "32558  0.0  1.0  0.0  0.0  \n",
      "32559  0.0  1.0  0.0  0.0  \n",
      "32560  0.0  1.0  0.0  0.0  \n",
      "\n",
      "[32561 rows x 100 columns]\n"
     ]
    }
   ],
   "source": [
    "x_train = data_encoded.iloc[:32561]\n",
    "x_train.columns = x_train.columns.astype(str)\n",
    "print(x_train)"
   ]
  },
  {
   "cell_type": "code",
   "execution_count": 41,
   "id": "ea018ba1",
   "metadata": {},
   "outputs": [
    {
     "name": "stdout",
     "output_type": "stream",
     "text": [
      "       Age  Final Weight  Education Number  Capital Gain  Capital Loss  \\\n",
      "32561   25        226802                 7             0             0   \n",
      "32562   38         89814                 9             0             0   \n",
      "32563   28        336951                12             0             0   \n",
      "32564   44        160323                10          7688             0   \n",
      "32565   18        103497                10             0             0   \n",
      "...    ...           ...               ...           ...           ...   \n",
      "48837   39        215419                13             0             0   \n",
      "48838   64        321403                 9             0             0   \n",
      "48839   38        374983                13             0             0   \n",
      "48840   44         83891                13          5455             0   \n",
      "48841   35        182148                13             0             0   \n",
      "\n",
      "       Hours per Week    0    1    2    3  ...   84   85   86   87   88   89  \\\n",
      "32561              40  0.0  0.0  0.0  1.0  ...  0.0  0.0  0.0  0.0  0.0  0.0   \n",
      "32562              50  0.0  0.0  0.0  1.0  ...  0.0  0.0  0.0  0.0  0.0  0.0   \n",
      "32563              40  0.0  1.0  0.0  0.0  ...  0.0  0.0  0.0  0.0  0.0  0.0   \n",
      "32564              40  0.0  0.0  0.0  1.0  ...  0.0  0.0  0.0  0.0  0.0  0.0   \n",
      "32565              30  0.0  0.0  0.0  0.0  ...  0.0  0.0  0.0  0.0  0.0  0.0   \n",
      "...               ...  ...  ...  ...  ...  ...  ...  ...  ...  ...  ...  ...   \n",
      "48837              36  0.0  0.0  0.0  1.0  ...  0.0  0.0  0.0  0.0  0.0  0.0   \n",
      "48838              40  0.0  0.0  0.0  0.0  ...  0.0  0.0  0.0  0.0  0.0  0.0   \n",
      "48839              50  0.0  0.0  0.0  1.0  ...  0.0  0.0  0.0  0.0  0.0  0.0   \n",
      "48840              40  0.0  0.0  0.0  1.0  ...  0.0  0.0  0.0  0.0  0.0  0.0   \n",
      "48841              60  0.0  0.0  0.0  0.0  ...  0.0  0.0  0.0  0.0  0.0  0.0   \n",
      "\n",
      "        90   91   92   93  \n",
      "32561  0.0  1.0  0.0  0.0  \n",
      "32562  0.0  1.0  0.0  0.0  \n",
      "32563  0.0  1.0  0.0  0.0  \n",
      "32564  0.0  1.0  0.0  0.0  \n",
      "32565  0.0  1.0  0.0  0.0  \n",
      "...    ...  ...  ...  ...  \n",
      "48837  0.0  1.0  0.0  0.0  \n",
      "48838  0.0  1.0  0.0  0.0  \n",
      "48839  0.0  1.0  0.0  0.0  \n",
      "48840  0.0  1.0  0.0  0.0  \n",
      "48841  0.0  1.0  0.0  0.0  \n",
      "\n",
      "[16281 rows x 100 columns]\n"
     ]
    }
   ],
   "source": [
    "x_test = data_encoded.iloc[32561:]\n",
    "x_test.columns = x_test.columns.astype(str)\n",
    "print(x_test)"
   ]
  },
  {
   "cell_type": "code",
   "execution_count": 49,
   "id": "2cfb9214",
   "metadata": {},
   "outputs": [
    {
     "name": "stderr",
     "output_type": "stream",
     "text": [
      "C:\\Users\\youssef\\anaconda3\\Lib\\site-packages\\sklearn\\utils\\validation.py:1184: DataConversionWarning: A column-vector y was passed when a 1d array was expected. Please change the shape of y to (n_samples, ), for example using ravel().\n",
      "  y = column_or_1d(y, warn=True)\n"
     ]
    },
    {
     "name": "stdout",
     "output_type": "stream",
     "text": [
      "GaussianNB()\n",
      "0.7957127940544193\n",
      "[0 0 0 ... 0 1 0]\n",
      "[[9.97412227e-01 2.58777336e-03]\n",
      " [9.84756080e-01 1.52439199e-02]\n",
      " [9.93541986e-01 6.45801379e-03]\n",
      " ...\n",
      " [9.78079367e-01 2.19206332e-02]\n",
      " [1.21026493e-05 9.99987897e-01]\n",
      " [9.71722872e-01 2.82771280e-02]]\n"
     ]
    }
   ],
   "source": [
    "from sklearn.naive_bayes import GaussianNB\n",
    "model=GaussianNB()\n",
    "print(model.fit(x_train,y_train))\n",
    "print(model.score(x_test,y_test))\n",
    "y_predict=model.predict(x_test)\n",
    "print(y_predict)\n",
    "print(model.predict_proba(x_test))"
   ]
  },
  {
   "cell_type": "code",
   "execution_count": 51,
   "id": "f3fadf14",
   "metadata": {},
   "outputs": [
    {
     "name": "stdout",
     "output_type": "stream",
     "text": [
      "Sensitivity : 0.3049921996879875\n",
      "Specificity : 0.9474869320466426\n"
     ]
    }
   ],
   "source": [
    "from sklearn.metrics import confusion_matrix\n",
    "TN, FP,FN,TP= confusion_matrix(y_test,y_predict).ravel()\n",
    "sensitivity = TP / (TP + FN)\n",
    "specificity = TN / (TN + FP)\n",
    "\n",
    "print(\"Sensitivity :\", sensitivity)\n",
    "print(\"Specificity :\", specificity)"
   ]
  },
  {
   "cell_type": "code",
   "execution_count": null,
   "id": "de3fe323",
   "metadata": {},
   "outputs": [],
   "source": []
  }
 ],
 "metadata": {
  "kernelspec": {
   "display_name": "Python 3 (ipykernel)",
   "language": "python",
   "name": "python3"
  },
  "language_info": {
   "codemirror_mode": {
    "name": "ipython",
    "version": 3
   },
   "file_extension": ".py",
   "mimetype": "text/x-python",
   "name": "python",
   "nbconvert_exporter": "python",
   "pygments_lexer": "ipython3",
   "version": "3.11.5"
  }
 },
 "nbformat": 4,
 "nbformat_minor": 5
}
